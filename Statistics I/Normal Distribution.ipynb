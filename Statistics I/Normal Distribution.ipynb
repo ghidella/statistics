{
 "cells": [
  {
   "cell_type": "code",
   "execution_count": 1,
   "id": "062725b5-bf95-4b20-b65f-d5475a18f132",
   "metadata": {},
   "outputs": [],
   "source": [
    "# Importing function norm\n",
    "from scipy.stats import norm"
   ]
  },
  {
   "cell_type": "code",
   "execution_count": 2,
   "id": "670ff3e6-1acd-4743-b878-a9497d68a737",
   "metadata": {},
   "outputs": [
    {
     "data": {
      "text/plain": [
       "0.15865525393145707"
      ]
     },
     "execution_count": 2,
     "metadata": {},
     "output_type": "execute_result"
    }
   ],
   "source": [
    "# Objects set in a basket, the mean is 8 and the standard deviation is 2\n",
    "# What is the probability of picking one object lighter than 6 kg\n",
    "norm.cdf(6, 8, 2)"
   ]
  },
  {
   "cell_type": "code",
   "execution_count": 6,
   "id": "d1f4c52f-fb75-4b6d-bc86-26fe2a67549f",
   "metadata": {},
   "outputs": [
    {
     "data": {
      "text/plain": [
       "0.8413447460685429"
      ]
     },
     "execution_count": 6,
     "metadata": {},
     "output_type": "execute_result"
    }
   ],
   "source": [
    "# What is the probability of picking one object heavier than 6 kg\n",
    "norm.sf(6, 8, 2)\n",
    "1 - norm.cdf(6, 8, 2)"
   ]
  },
  {
   "cell_type": "code",
   "execution_count": 7,
   "id": "761e59cf-8fb8-4b77-af00-b95181022347",
   "metadata": {},
   "outputs": [
    {
     "data": {
      "text/plain": [
       "0.31731050786291415"
      ]
     },
     "execution_count": 7,
     "metadata": {},
     "output_type": "execute_result"
    }
   ],
   "source": [
    "# What is the probability of picking one object lighter than 6 kg and heavier than 10 kg\n",
    "norm.cdf(6, 8, 2) + norm.sf(10, 8, 2)"
   ]
  },
  {
   "cell_type": "code",
   "execution_count": 8,
   "id": "ccbe95b7-285f-4d35-a8e2-f52ac4cd1f18",
   "metadata": {},
   "outputs": [
    {
     "data": {
      "text/plain": [
       "0.3413447460685429"
      ]
     },
     "execution_count": 8,
     "metadata": {},
     "output_type": "execute_result"
    }
   ],
   "source": [
    "# What is the probability of picking one object lighter than 10 kg and heavier than 8 kg\n",
    "norm.cdf(10, 8, 2) - norm.cdf(8, 8, 2)"
   ]
  },
  {
   "cell_type": "code",
   "execution_count": null,
   "id": "3d8356c8-9f06-4751-aee5-fc8a64f156d4",
   "metadata": {},
   "outputs": [],
   "source": []
  }
 ],
 "metadata": {
  "kernelspec": {
   "display_name": "Python 3 (ipykernel)",
   "language": "python",
   "name": "python3"
  },
  "language_info": {
   "codemirror_mode": {
    "name": "ipython",
    "version": 3
   },
   "file_extension": ".py",
   "mimetype": "text/x-python",
   "name": "python",
   "nbconvert_exporter": "python",
   "pygments_lexer": "ipython3",
   "version": "3.9.13"
  }
 },
 "nbformat": 4,
 "nbformat_minor": 5
}
