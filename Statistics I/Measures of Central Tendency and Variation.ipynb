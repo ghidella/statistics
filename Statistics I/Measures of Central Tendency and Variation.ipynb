{
 "cells": [
  {
   "cell_type": "code",
   "execution_count": 1,
   "id": "b41b90d5-e6ae-4ff2-8f2a-3fe5be552b69",
   "metadata": {},
   "outputs": [],
   "source": [
    "# Importing libs // scipy to creating more detailed stats\n",
    "import numpy as np\n",
    "from scipy import stats"
   ]
  },
  {
   "cell_type": "code",
   "execution_count": 2,
   "id": "48e07071-addb-4463-8988-e470b79474d4",
   "metadata": {},
   "outputs": [
    {
     "data": {
      "text/plain": [
       "181111.11111111112"
      ]
     },
     "execution_count": 2,
     "metadata": {},
     "output_type": "execute_result"
    }
   ],
   "source": [
    "# Creating variable with players data, visualizing mean and median\n",
    "players = [40000, 18000, 12000, 250000, 30000, 140000, 300000, 40000, 800000]\n",
    "np.mean(players)"
   ]
  },
  {
   "cell_type": "code",
   "execution_count": 3,
   "id": "f9506b66-e8c9-4bdb-ba79-756043114bb8",
   "metadata": {},
   "outputs": [
    {
     "data": {
      "text/plain": [
       "40000.0"
      ]
     },
     "execution_count": 3,
     "metadata": {},
     "output_type": "execute_result"
    }
   ],
   "source": [
    "np.median(players)"
   ]
  },
  {
   "cell_type": "code",
   "execution_count": 4,
   "id": "2d6e4475-d36a-49c0-879a-06cdac69d217",
   "metadata": {},
   "outputs": [
    {
     "data": {
      "text/plain": [
       "array([ 12000.,  30000.,  40000., 250000., 800000.])"
      ]
     },
     "execution_count": 4,
     "metadata": {},
     "output_type": "execute_result"
    }
   ],
   "source": [
    "# Creating variable for quantile generation (0%, 25%, 50%, 75% and 100%)\n",
    "quantile = np.quantile(players, [0, 0.25, 0.5, 0.75, 1])\n",
    "quantile"
   ]
  },
  {
   "cell_type": "code",
   "execution_count": 5,
   "id": "8d06ddf0-682b-41a9-a8af-96054e3f70f9",
   "metadata": {},
   "outputs": [
    {
     "data": {
      "text/plain": [
       "255307.87514511007"
      ]
     },
     "execution_count": 5,
     "metadata": {},
     "output_type": "execute_result"
    }
   ],
   "source": [
    "# Visualizing standard deviation\n",
    "np.std(players, ddof = 1)"
   ]
  },
  {
   "cell_type": "code",
   "execution_count": 6,
   "id": "87a893d7-4757-4ea2-8c23-c2f1e7a0d619",
   "metadata": {},
   "outputs": [
    {
     "data": {
      "text/plain": [
       "DescribeResult(nobs=9, minmax=(12000, 800000), mean=181111.11111111112, variance=65182111111.11111, skewness=1.758635899846188, kurtosis=1.9572075427527729)"
      ]
     },
     "execution_count": 6,
     "metadata": {},
     "output_type": "execute_result"
    }
   ],
   "source": [
    "# Visualizing more detailed stats by using scipy lib\n",
    "stats.describe(players)"
   ]
  },
  {
   "cell_type": "code",
   "execution_count": null,
   "id": "828e2c51-7a42-48ab-801b-6a6bc53bb6fd",
   "metadata": {},
   "outputs": [],
   "source": []
  }
 ],
 "metadata": {
  "kernelspec": {
   "display_name": "Python 3 (ipykernel)",
   "language": "python",
   "name": "python3"
  },
  "language_info": {
   "codemirror_mode": {
    "name": "ipython",
    "version": 3
   },
   "file_extension": ".py",
   "mimetype": "text/x-python",
   "name": "python",
   "nbconvert_exporter": "python",
   "pygments_lexer": "ipython3",
   "version": "3.9.13"
  }
 },
 "nbformat": 4,
 "nbformat_minor": 5
}
